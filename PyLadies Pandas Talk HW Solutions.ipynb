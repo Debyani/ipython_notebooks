{
 "metadata": {
  "name": "",
  "signature": "sha256:a62bf07b8e7daea87fc8b29028cfe7fd394870a0681e8b6e643a5d6633a9e4c5"
 },
 "nbformat": 3,
 "nbformat_minor": 0,
 "worksheets": [
  {
   "cells": [
    {
     "cell_type": "raw",
     "metadata": {},
     "source": [
      "# HW what is the list of companies involved with mortgage related complaints from tx where the customers called ?\n",
      "# How many companies ?\n",
      "\n",
      "\n",
      "consumer_complaints[(consumer_complaints['product']=='Mortgage') & (consumer_complaints.state=='TX') & (consumer_complaints.submitted_via =='Phone')].company.unique()"
     ]
    },
    {
     "cell_type": "raw",
     "metadata": {},
     "source": [
      "consumer_complaints[(consumer_complaints['product']=='Mortgage') & (consumer_complaints.state=='TX') & (consumer_complaints.submitted_via =='Phone')].company.nunique()"
     ]
    },
    {
     "cell_type": "raw",
     "metadata": {},
     "source": [
      "#HW: Plot the top 10 Companies with the largest number of complaints\n",
      "consumer_complaints.groupby(['company'])['complaint_id'].count().order()[-10:].plot(kind='barh')"
     ]
    },
    {
     "cell_type": "raw",
     "metadata": {},
     "source": [
      "HW: List all the items in the dataframe that have 'Mortgage' as the product and from TX where the complaint was submitted_via the Web.\n",
      "\n",
      "consumer_complaints[(consumer_complaints['product']=='Mortgage') & (consumer_complaints.state=='TX') & (consumer_complaints.submitted_via=='Web')]"
     ]
    },
    {
     "cell_type": "raw",
     "metadata": {},
     "source": [
      "HW: Return all companies with fewer than 100 complaints in TX.  How many complaints did each of those companies have (ordered list)?\n",
      "\n",
      "consumer_complaints[consumer_complaints.state=='TX'].groupby(['company']).filter(lambda x: len(x) < 100).company\n",
      "consumer_complaints[consumer_complaints.state=='TX'].groupby(['company']).filter(lambda x: len(x) < 100).groupby(['company'])['complaint_id'].count().order()\n"
     ]
    }
   ],
   "metadata": {}
  }
 ]
}